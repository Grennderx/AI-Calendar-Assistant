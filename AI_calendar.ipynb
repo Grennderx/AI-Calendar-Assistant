{
 "cells": [
  {
   "metadata": {
    "collapsed": true,
    "ExecuteTime": {
     "end_time": "2025-08-13T14:10:17.313982Z",
     "start_time": "2025-08-13T14:10:17.299571Z"
    }
   },
   "cell_type": "code",
   "source": [
    "from typing import Optional\n",
    "from datetime import datetime\n",
    "\n",
    "from babel.messages.extract import extract\n",
    "from pydantic import BaseModel, Field\n",
    "from openai import OpenAI\n",
    "import json\n",
    "import os\n",
    "import logging\n",
    "from dotenv import load_dotenv\n",
    "load_dotenv()"
   ],
   "id": "initial_id",
   "outputs": [
    {
     "data": {
      "text/plain": [
       "True"
      ]
     },
     "execution_count": 396,
     "metadata": {},
     "output_type": "execute_result"
    }
   ],
   "execution_count": 396
  },
  {
   "metadata": {
    "ExecuteTime": {
     "end_time": "2025-08-13T14:36:01.353663Z",
     "start_time": "2025-08-13T14:36:01.194611Z"
    }
   },
   "cell_type": "code",
   "source": [
    "client = OpenAI(\n",
    "    base_url=\"http://localhost:1234/v1\",\n",
    "    api_key=\"lm-studio\"\n",
    ")\n",
    "model = \"qwen2.5-coder-7b-instruct\""
   ],
   "id": "96baddae63c69373",
   "outputs": [],
   "execution_count": 451
  },
  {
   "metadata": {
    "ExecuteTime": {
     "end_time": "2025-08-13T14:35:59.494150Z",
     "start_time": "2025-08-13T14:35:59.353938Z"
    }
   },
   "cell_type": "code",
   "source": [
    "client_api = OpenAI(\n",
    "    base_url=\"https://openrouter.ai/api/v1\", \n",
    "    api_key=os.getenv('OPENROUTER_API_KEY')\n",
    ")\n",
    "model_api = \"meta-llama/llama-3.1-405b-instruct:free\""
   ],
   "id": "3674471e22276fa4",
   "outputs": [],
   "execution_count": 450
  },
  {
   "metadata": {
    "ExecuteTime": {
     "end_time": "2025-08-13T14:10:17.773048Z",
     "start_time": "2025-08-13T14:10:17.765592Z"
    }
   },
   "cell_type": "code",
   "outputs": [],
   "execution_count": 398,
   "source": [
    "logging.basicConfig(\n",
    "    level=logging.INFO,\n",
    "    format='%(asctime)s - %(name)s - %(levelname)s - %(message)s',\n",
    "    datefmt='%Y-%m-%d %H:%M:%S'\n",
    ")\n",
    "logger = logging.getLogger(__name__)"
   ],
   "id": "1c7011320005bbcd"
  },
  {
   "metadata": {
    "ExecuteTime": {
     "end_time": "2025-08-13T14:10:18.355353Z",
     "start_time": "2025-08-13T14:10:18.348558Z"
    }
   },
   "cell_type": "code",
   "source": [
    "class EventExtraction(BaseModel):\n",
    "    \"\"\"First LLM call: Extract basic event information\"\"\"\n",
    "    description: str = Field(description=\"Raw description of the event\")\n",
    "    is_calendar_event: bool = Field(description=\"Whether this text describes a calendar event\")\n",
    "    confidence_score: float = Field(description=\"Confidence score between 0 and 1\")"
   ],
   "id": "91756f8955a2f8be",
   "outputs": [],
   "execution_count": 400
  },
  {
   "metadata": {
    "ExecuteTime": {
     "end_time": "2025-08-13T14:10:18.702174Z",
     "start_time": "2025-08-13T14:10:18.691380Z"
    }
   },
   "cell_type": "code",
   "source": [
    "class EventDetails(BaseModel):\n",
    "    \"\"\"Second LLM call: Parse specific event details\"\"\"\n",
    "    name: str = Field(description=\"Name of the event\")\n",
    "    date: str = Field(description=\"Date of the event. Format of the date: YYYY-MM-DD\")\n",
    "    duration: str = Field(description=\"Expected duration of the event\")\n",
    "    participants: list[str] = Field(description=\"List of participants of the event\")"
   ],
   "id": "c429882531def7e1",
   "outputs": [],
   "execution_count": 401
  },
  {
   "metadata": {
    "ExecuteTime": {
     "end_time": "2025-08-13T14:10:19.012827Z",
     "start_time": "2025-08-13T14:10:19.005091Z"
    }
   },
   "cell_type": "code",
   "source": [
    "class EventConfirmation(BaseModel):\n",
    "    \"\"\"Third LLM call: Generate confirmation message\"\"\"\n",
    "    confirmation_message: str = Field(description=\"Natural language confirmation message\")\n",
    "    calendar_link: Optional[str] = Field(description=\"Generated calendar link for the meeting in Google calendar\")"
   ],
   "id": "fb3f77bdea558bde",
   "outputs": [],
   "execution_count": 402
  },
  {
   "metadata": {
    "ExecuteTime": {
     "end_time": "2025-08-13T14:10:19.310694Z",
     "start_time": "2025-08-13T14:10:19.297159Z"
    }
   },
   "cell_type": "code",
   "source": [
    "def get_current_day() -> [str, str]: \n",
    "    \"\"\"Returns the date and the day of the week of today's day.\"\"\"\n",
    "    weekdays = {0: \"Monday\", 1: \"Tuesday\", 2: \"Wednesday\", 3: \"Thursday\", 4: \"Friday\", 5: \"Saturday\", 6: \"Sunday\"}\n",
    "    return datetime.now().strftime('%Y-%m-%d'), weekdays[datetime.today().weekday()]"
   ],
   "id": "49ab028a525b55e6",
   "outputs": [],
   "execution_count": 403
  },
  {
   "metadata": {
    "ExecuteTime": {
     "end_time": "2025-08-13T14:10:19.665730Z",
     "start_time": "2025-08-13T14:10:19.651603Z"
    }
   },
   "cell_type": "code",
   "source": [
    "def call_function(name, args):\n",
    "    if name == 'get_current_day':\n",
    "        return get_current_day()"
   ],
   "id": "d8ba929d742f5e34",
   "outputs": [],
   "execution_count": 404
  },
  {
   "metadata": {
    "ExecuteTime": {
     "end_time": "2025-08-13T14:10:20.112854Z",
     "start_time": "2025-08-13T14:10:20.106022Z"
    }
   },
   "cell_type": "code",
   "source": [
    "tools = [\n",
    "    {\n",
    "        \"type\": \"function\",\n",
    "        \"function\": {\n",
    "        \"name\": \"get_current_day\",\n",
    "        \"description\": \"Get the date and the day of the week of today's day.\",\n",
    "        \"parameters\": {\n",
    "            \"type\": \"object\",\n",
    "            \"properties\": {},\n",
    "            \"required\": [],\n",
    "            \"additionalProperties\": False\n",
    "        },\n",
    "        \"strict\": True\n",
    "        }\n",
    "    },\n",
    "]"
   ],
   "id": "be62527974e6c0d2",
   "outputs": [],
   "execution_count": 405
  },
  {
   "metadata": {
    "ExecuteTime": {
     "end_time": "2025-08-13T14:10:23.817932Z",
     "start_time": "2025-08-13T14:10:20.867151Z"
    }
   },
   "cell_type": "code",
   "source": [
    "system_prompt = \"You are a helpful time assistant.\"\n",
    "\n",
    "messages = [\n",
    "    {\"role\": \"system\", \"content\": system_prompt},\n",
    "    {\"role\": \"user\", \"content\": \"What's the date today?\"},\n",
    "]\n",
    "\n",
    "gen_messages = []\n",
    "\n",
    "completion = client.chat.completions.create(\n",
    "    model=model,\n",
    "    messages=messages,\n",
    "    tools=tools\n",
    ")"
   ],
   "id": "c418a63579cb7111",
   "outputs": [
    {
     "name": "stderr",
     "output_type": "stream",
     "text": [
      "2025-08-13 17:10:23 - httpx - INFO - HTTP Request: POST http://localhost:1234/v1/chat/completions \"HTTP/1.1 200 OK\"\n"
     ]
    }
   ],
   "execution_count": 406
  },
  {
   "metadata": {
    "ExecuteTime": {
     "end_time": "2025-08-13T14:10:27.380697Z",
     "start_time": "2025-08-13T14:10:27.376770Z"
    }
   },
   "cell_type": "code",
   "source": [
    "for tool_call in completion.choices[0].message.tool_calls:\n",
    "    name = tool_call.function.name\n",
    "    args = json.loads(tool_call.function.arguments)\n",
    "    gen_messages.append(completion.choices[0].message)\n",
    "    \n",
    "    result = call_function(name, args)\n",
    "    gen_messages.append(\n",
    "        {\"role\": \"tool\", \"tool_call_id\": tool_call.id, \"content\": json.dumps(result)}\n",
    "    )"
   ],
   "id": "339c0f34ed014732",
   "outputs": [],
   "execution_count": 408
  },
  {
   "metadata": {
    "ExecuteTime": {
     "end_time": "2025-08-13T14:36:59.126777Z",
     "start_time": "2025-08-13T14:36:59.110503Z"
    }
   },
   "cell_type": "code",
   "source": [
    "extract_event_info_system_prompt = f\"\"\"\n",
    "    You are a precise event extraction system. Follow these STRICT rules:\n",
    "    \n",
    "    1. PRESERVE ORIGINAL DATA:\n",
    "       - Never modify names, dates, times or other details from the input\n",
    "       - Keep exact wording for participants (e.g. \"Vlad\" → \"Vlad\", not \"John\")\n",
    "    \n",
    "    2. ANALYSIS REQUIREMENTS:\n",
    "       - Identify calendar events with 95%+ confidence\n",
    "       - Return raw user description verbatim in 'description' field\n",
    "       - is_calendar_event=True only for explicit scheduling requests\n",
    "    \n",
    "    3. OUTPUT FORMAT:\n",
    "       - confidence_score must reflect real certainty (0.0-1.0)\n",
    "       - Example bad input: \"I like coffee\" → is_calendar_event=False\n",
    "    \n",
    "    Today is {get_current_day()}. Never guess dates - use exact input dates or phrases like \"next Tuesday\".\n",
    "    \"\"\"\n",
    "\n",
    "def extract_event_info(user_input: str) -> EventExtraction:\n",
    "    \"\"\"First LLM call to determine if input is a calendar event\"\"\"\n",
    "    logger.info(\"Starting event extraction analysis\")\n",
    "    logger.debug(f\"Input text: {user_input}\")\n",
    "    \n",
    "    completion = client.beta.chat.completions.parse(\n",
    "        model=model,\n",
    "        messages=[\n",
    "            {\n",
    "                \"role\": \"system\",\n",
    "                \"content\": extract_event_info_system_prompt,\n",
    "            },\n",
    "            {\"role\": \"user\", \"content\": user_input}\n",
    "        ],\n",
    "        response_format=EventExtraction\n",
    "    )\n",
    "    result = completion.choices[0].message.parsed\n",
    "    logger.info(\n",
    "        f\"Extraction complete - Is calendar event: {result.is_calendar_event}\",\n",
    "        f\"The confidence score is: {result.confidence_score}\"\n",
    "    )\n",
    "    return result"
   ],
   "id": "473ff40a2ed39a91",
   "outputs": [],
   "execution_count": 453
  },
  {
   "metadata": {
    "ExecuteTime": {
     "end_time": "2025-08-13T14:36:59.782370Z",
     "start_time": "2025-08-13T14:36:59.768541Z"
    }
   },
   "cell_type": "code",
   "source": [
    "parse_event_details_system_prompt = f\"\"\"\n",
    "You are an event detail parser with STRICT DATA PRESERVATION:\n",
    "\n",
    "1. MANDATORY FIELDS:\n",
    "   - name: Use first 5 words of description if no clear title\n",
    "   - date: Calculate from \"next Tuesday\" etc. using {get_current_day()}\n",
    "   - participants: MUST include ALL names from input exactly\n",
    "\n",
    "2. ABSOLUTE PROHIBITIONS:\n",
    "   - Never invent/replace names (e.g. \"Vlad\" → \"Vlad\", never \"John\")\n",
    "   - Never use placeholder names like \"user\", \"participant 1\"\n",
    "   - Never change duration (2h → 2h, not \"all day\")\n",
    "\n",
    "3. DATE HANDLING:\n",
    "   - Relative dates: \"next Tuesday\" → calculate from today, with using 'get_current_day' tool \n",
    "   you can get the day of the week of today to calculate the date of the meeting\n",
    "   - Explicit dates: Keep exactly as written\n",
    "   - Time: Preserve exact format (2 pm → 14:00 if needed)\n",
    "\n",
    "Today is {get_current_day()}. Verify ALL output against original input before responding.\n",
    "\"\"\"\n",
    "\n",
    "def parse_event_details(description: str) -> EventDetails:\n",
    "    \"\"\"Second LLM call to extract specific event details\"\"\"\n",
    "    logger.info(\"Starting event details parsing\")\n",
    "\n",
    "    date_context = f\"Today is {datetime.now().strftime('%Y-%m-%d')}.\"\n",
    "\n",
    "    completion = client.beta.chat.completions.parse(\n",
    "        model=model,\n",
    "        messages=[\n",
    "            {\n",
    "                \"role\": \"system\",\n",
    "                \"content\": parse_event_details_system_prompt\n",
    "            },\n",
    "            {\"role\": \"user\", \"content\": description}\n",
    "        ] + gen_messages,\n",
    "        tools=tools,\n",
    "        response_format=EventDetails,\n",
    "        temperature=0.3\n",
    "    )\n",
    "    result = completion.choices[0].message.parsed\n",
    "    logger.info(\n",
    "        f\"Parsed event details - Name: {result.name}, Date: {result}\")\n",
    "    logger.debug(f\"Participants: {', '.join(result.participants)}\")\n",
    "    return result"
   ],
   "id": "e32eba5ef3b882aa",
   "outputs": [],
   "execution_count": 454
  },
  {
   "metadata": {
    "ExecuteTime": {
     "end_time": "2025-08-13T14:37:00.086581Z",
     "start_time": "2025-08-13T14:37:00.075405Z"
    }
   },
   "cell_type": "code",
   "source": [
    "generate_confirmation_system_prompt = f\"\"\"\n",
    "You generate event confirmations with 100% DATA ACCURACY and Google Calendar integration. Follow these STRICT rules:\n",
    "\n",
    "1. DATA PRESERVATION REQUIREMENTS:\n",
    "   - Use EXACT details from EventDetails object:\n",
    "     * Name: Preserve original wording exactly\n",
    "     * Date: Keep original format (convert relative dates like \"next Tuesday\" to YYYY-MM-DD)\n",
    "     * Time: Maintain exact input phrasing (e.g. \"2 pm\", \"14:00\")\n",
    "     * Duration: Keep original units (hours/minutes)\n",
    "     * Participants: List ALL names exactly as provided, comma-separated\n",
    "\n",
    "2. GOOGLE CALENDAR LINK GENERATION:\n",
    "   - Required parameters:\n",
    "     * text: URL-encoded event name\n",
    "     * dates: Start/end in YYYYMMDDTHHMMSSZ format (UTC)\n",
    "   - Time handling:\n",
    "     * Convert all times to 24h UTC format (e.g. \"2 pm\" → \"1400\")\n",
    "     * Calculate end time using duration (default 1h if unspecified)\n",
    "   - Example output:\n",
    "     \"https://www.google.com/calendar/render?action=TEMPLATE&text=Meeting&dates=20250820T140000Z/20250820T160000Z\"\n",
    "\n",
    "3. CONFIRMATION MESSAGE FORMAT:\n",
    "   - Base format:\n",
    "     \"Confirmed: [name] on [date] at [time] for [duration] with [participants]\"\n",
    "   - Special cases:\n",
    "     * Missing data: \"[Field] not specified\"\n",
    "     * Discrepancies: \"NOTE: Changed from [original] to [current]\"\n",
    "     * Timezones: Explicitly state if using UTC\n",
    "\n",
    "4. VALIDATION AND ERROR HANDLING:\n",
    "   - Highlight any discrepancies with original request\n",
    "   - If participants changed: \"WARNING: Participant list modified from original\"\n",
    "   - If date guessed: \"NOTE: Date calculated from relative reference\"\n",
    "   - Never guess missing information - use \"unspecified\"\n",
    "\n",
    "5. EXAMPLES:\n",
    "   Input: [\"name\":\"Project Review\",\"date\":\"next Tuesday\",\"time\":\"3pm\",\"duration\":\"2h\",\"participants\":[\"Vlad\",\"Dasha\"]]\n",
    "   Output: [\n",
    "     \"confirmation_message\": \"Confirmed: Project Review on 2025-08-20 at 3 PM (2 hours) with Vlad, Dasha. NOTE: Date calculated from 'next Tuesday'\",\n",
    "     \"calendar_link\": \"https://www.google.com/calendar/render?action=TEMPLATE&text=Project%20Review&dates=20250820T150000Z/20250820T170000Z\"\n",
    "   ]\n",
    "\n",
    "6. ABSOLUTE PROHIBITIONS:\n",
    "   - Never modify original participant names\n",
    "   - Never use placeholder values (e.g. \"Participant 1\")\n",
    "   - Never simplify/abbreviate without explicit request\n",
    "   - Never generate links with incomplete data\n",
    "\n",
    "Today is {get_current_day()}. Always verify:\n",
    "1. All original data preserved exactly\n",
    "2. Calculated fields match input context\n",
    "3. Links use correct UTC time conversion\n",
    "\"\"\"\n",
    "def generate_confirmation(event_details: EventDetails) -> EventConfirmation:\n",
    "    \"\"\"Third LLM call to generate a confirmation message\"\"\"\n",
    "    logger.info(\"Generating confirmation message\")\n",
    "\n",
    "    completion = client.beta.chat.completions.parse(\n",
    "        model=model,\n",
    "        messages=[\n",
    "            {\n",
    "                \"role\": \"system\",\n",
    "                \"content\": generate_confirmation_system_prompt\n",
    "            },\n",
    "            {\"role\": \"user\", \"content\": str(event_details.model_dump())}\n",
    "        ],\n",
    "        response_format=EventConfirmation,\n",
    "    )\n",
    "\n",
    "    result = completion.choices[0].message.parsed\n",
    "    logger.info(\"Confirmation message generated successfully\")\n",
    "    return result"
   ],
   "id": "6895443cfb366ecb",
   "outputs": [],
   "execution_count": 455
  },
  {
   "metadata": {
    "ExecuteTime": {
     "end_time": "2025-08-13T14:37:00.410505Z",
     "start_time": "2025-08-13T14:37:00.401665Z"
    }
   },
   "cell_type": "code",
   "source": [
    "def process_calendar_request(user_input: str) -> Optional[EventConfirmation]:\n",
    "    \"\"\"Main function implementing the prompt chain with gate check\"\"\"\n",
    "    logger.info(\"Processing calendar request\")\n",
    "    logger.debug(f\"Raw input: {user_input}\")\n",
    "\n",
    "    # First LLM call: Extract basic info\n",
    "    initial_extraction = extract_event_info(user_input)\n",
    "\n",
    "    # Gate check: Verify if it's a calendar event with sufficient confidence\n",
    "    if (\n",
    "        not initial_extraction.is_calendar_event\n",
    "        or initial_extraction.confidence_score < 0.7\n",
    "    ):\n",
    "        logger.warning(\n",
    "            f\"Gate check failed - is_calendar_event: {initial_extraction.is_calendar_event}, \"\n",
    "        )\n",
    "        return None\n",
    "\n",
    "    logger.info(\"Gate check passed, proceeding with event processing\")\n",
    "\n",
    "    # Second LLM call: Get detailed event information\n",
    "    event_details = parse_event_details(initial_extraction.description)\n",
    "\n",
    "    # Third LLM call: Generate confirmation\n",
    "    confirmation = generate_confirmation(event_details)\n",
    "\n",
    "    logger.info(\"Calendar request processing completed successfully\")\n",
    "    return confirmation"
   ],
   "id": "dfe15975df643bfa",
   "outputs": [],
   "execution_count": 456
  },
  {
   "metadata": {
    "ExecuteTime": {
     "end_time": "2025-08-13T14:37:57.368182Z",
     "start_time": "2025-08-13T14:37:50.529107Z"
    }
   },
   "cell_type": "code",
   "source": [
    "user_input = \"Let's schedule a 1.5h team meeting next Thursday at 3 pm with Vlad Vasilev, Lionel Pepsi, Iso and Ghislen Zhuk to discuss the project roadmap\"\n",
    "\n",
    "result = process_calendar_request(user_input)\n",
    "if result:\n",
    "    print(f\"Confirmation: {result.confirmation_message}\")\n",
    "    if result.calendar_link:\n",
    "        print(f\"Calendar link: {result.calendar_link}\")\n",
    "else:\n",
    "    print(\"This doesn't appear to be a calendar event request\")"
   ],
   "id": "3f014d7a30b806da",
   "outputs": [
    {
     "name": "stderr",
     "output_type": "stream",
     "text": [
      "2025-08-13 17:37:50 - __main__ - INFO - Processing calendar request\n",
      "2025-08-13 17:37:50 - __main__ - INFO - Starting event extraction analysis\n",
      "2025-08-13 17:37:53 - httpx - INFO - HTTP Request: POST http://localhost:1234/v1/chat/completions \"HTTP/1.1 200 OK\"\n",
      "--- Logging error ---\n",
      "Traceback (most recent call last):\n",
      "  File \"C:\\Users\\AORUS\\AppData\\Local\\Programs\\Python\\Python312\\Lib\\logging\\__init__.py\", line 1160, in emit\n",
      "    msg = self.format(record)\n",
      "          ^^^^^^^^^^^^^^^^^^^\n",
      "  File \"C:\\Users\\AORUS\\AppData\\Local\\Programs\\Python\\Python312\\Lib\\logging\\__init__.py\", line 999, in format\n",
      "    return fmt.format(record)\n",
      "           ^^^^^^^^^^^^^^^^^^\n",
      "  File \"C:\\Users\\AORUS\\AppData\\Local\\Programs\\Python\\Python312\\Lib\\logging\\__init__.py\", line 703, in format\n",
      "    record.message = record.getMessage()\n",
      "                     ^^^^^^^^^^^^^^^^^^^\n",
      "  File \"C:\\Users\\AORUS\\AppData\\Local\\Programs\\Python\\Python312\\Lib\\logging\\__init__.py\", line 392, in getMessage\n",
      "    msg = msg % self.args\n",
      "          ~~~~^~~~~~~~~~~\n",
      "TypeError: not all arguments converted during string formatting\n",
      "Call stack:\n",
      "  File \"<frozen runpy>\", line 198, in _run_module_as_main\n",
      "  File \"<frozen runpy>\", line 88, in _run_code\n",
      "  File \"D:\\PycharmProjects\\pythonProject\\.venv\\Lib\\site-packages\\ipykernel_launcher.py\", line 18, in <module>\n",
      "    app.launch_new_instance()\n",
      "  File \"D:\\PycharmProjects\\pythonProject\\.venv\\Lib\\site-packages\\traitlets\\config\\application.py\", line 1075, in launch_instance\n",
      "    app.start()\n",
      "  File \"D:\\PycharmProjects\\pythonProject\\.venv\\Lib\\site-packages\\ipykernel\\kernelapp.py\", line 739, in start\n",
      "    self.io_loop.start()\n",
      "  File \"D:\\PycharmProjects\\pythonProject\\.venv\\Lib\\site-packages\\tornado\\platform\\asyncio.py\", line 211, in start\n",
      "    self.asyncio_loop.run_forever()\n",
      "  File \"C:\\Users\\AORUS\\AppData\\Local\\Programs\\Python\\Python312\\Lib\\asyncio\\base_events.py\", line 645, in run_forever\n",
      "    self._run_once()\n",
      "  File \"C:\\Users\\AORUS\\AppData\\Local\\Programs\\Python\\Python312\\Lib\\asyncio\\base_events.py\", line 1999, in _run_once\n",
      "    handle._run()\n",
      "  File \"C:\\Users\\AORUS\\AppData\\Local\\Programs\\Python\\Python312\\Lib\\asyncio\\events.py\", line 88, in _run\n",
      "    self._context.run(self._callback, *self._args)\n",
      "  File \"D:\\PycharmProjects\\pythonProject\\.venv\\Lib\\site-packages\\ipykernel\\kernelbase.py\", line 519, in dispatch_queue\n",
      "    await self.process_one()\n",
      "  File \"D:\\PycharmProjects\\pythonProject\\.venv\\Lib\\site-packages\\ipykernel\\kernelbase.py\", line 508, in process_one\n",
      "    await dispatch(*args)\n",
      "  File \"D:\\PycharmProjects\\pythonProject\\.venv\\Lib\\site-packages\\ipykernel\\kernelbase.py\", line 400, in dispatch_shell\n",
      "    await result\n",
      "  File \"D:\\PycharmProjects\\pythonProject\\.venv\\Lib\\site-packages\\ipykernel\\ipkernel.py\", line 368, in execute_request\n",
      "    await super().execute_request(stream, ident, parent)\n",
      "  File \"D:\\PycharmProjects\\pythonProject\\.venv\\Lib\\site-packages\\ipykernel\\kernelbase.py\", line 767, in execute_request\n",
      "    reply_content = await reply_content\n",
      "  File \"D:\\PycharmProjects\\pythonProject\\.venv\\Lib\\site-packages\\ipykernel\\ipkernel.py\", line 455, in do_execute\n",
      "    res = shell.run_cell(\n",
      "  File \"D:\\PycharmProjects\\pythonProject\\.venv\\Lib\\site-packages\\ipykernel\\zmqshell.py\", line 577, in run_cell\n",
      "    return super().run_cell(*args, **kwargs)\n",
      "  File \"D:\\PycharmProjects\\pythonProject\\.venv\\Lib\\site-packages\\IPython\\core\\interactiveshell.py\", line 3116, in run_cell\n",
      "    result = self._run_cell(\n",
      "  File \"D:\\PycharmProjects\\pythonProject\\.venv\\Lib\\site-packages\\IPython\\core\\interactiveshell.py\", line 3171, in _run_cell\n",
      "    result = runner(coro)\n",
      "  File \"D:\\PycharmProjects\\pythonProject\\.venv\\Lib\\site-packages\\IPython\\core\\async_helpers.py\", line 128, in _pseudo_sync_runner\n",
      "    coro.send(None)\n",
      "  File \"D:\\PycharmProjects\\pythonProject\\.venv\\Lib\\site-packages\\IPython\\core\\interactiveshell.py\", line 3394, in run_cell_async\n",
      "    has_raised = await self.run_ast_nodes(code_ast.body, cell_name,\n",
      "  File \"D:\\PycharmProjects\\pythonProject\\.venv\\Lib\\site-packages\\IPython\\core\\interactiveshell.py\", line 3639, in run_ast_nodes\n",
      "    if await self.run_code(code, result, async_=asy):\n",
      "  File \"D:\\PycharmProjects\\pythonProject\\.venv\\Lib\\site-packages\\IPython\\core\\interactiveshell.py\", line 3699, in run_code\n",
      "    exec(code_obj, self.user_global_ns, self.user_ns)\n",
      "  File \"C:\\Temp\\ipykernel_4796\\3190215070.py\", line 3, in <module>\n",
      "    result = process_calendar_request(user_input)\n",
      "  File \"C:\\Temp\\ipykernel_4796\\689699516.py\", line 7, in process_calendar_request\n",
      "    initial_extraction = extract_event_info(user_input)\n",
      "  File \"C:\\Temp\\ipykernel_4796\\820993065.py\", line 37, in extract_event_info\n",
      "    logger.info(\n",
      "Message: 'Extraction complete - Is calendar event: True'\n",
      "Arguments: ('The confidence score is: 0.98',)\n",
      "2025-08-13 17:37:53 - __main__ - INFO - Gate check passed, proceeding with event processing\n",
      "2025-08-13 17:37:53 - __main__ - INFO - Starting event details parsing\n",
      "2025-08-13 17:37:55 - httpx - INFO - HTTP Request: POST http://localhost:1234/v1/chat/completions \"HTTP/1.1 200 OK\"\n",
      "2025-08-13 17:37:55 - __main__ - INFO - Parsed event details - Name: Team Meeting, Date: name='Team Meeting' date='2025-08-15T15:00:00' duration='1.5h' participants=['Vlad Vasilev', 'Lionel Pepsi', 'Iso', 'Ghislen Zhuk']\n",
      "2025-08-13 17:37:55 - __main__ - INFO - Generating confirmation message\n",
      "2025-08-13 17:37:57 - httpx - INFO - HTTP Request: POST http://localhost:1234/v1/chat/completions \"HTTP/1.1 200 OK\"\n",
      "2025-08-13 17:37:57 - __main__ - INFO - Confirmation message generated successfully\n",
      "2025-08-13 17:37:57 - __main__ - INFO - Calendar request processing completed successfully\n"
     ]
    },
    {
     "name": "stdout",
     "output_type": "stream",
     "text": [
      "Confirmation: Confirmed: Team Meeting on 2025-08-15 at 3 PM (1.5 hours) with Vlad Vasilev, Lionel Pepsi, Iso, Ghislen Zhuk\n",
      "Calendar link: https://www.google.com/calendar/render?action=TEMPLATE&text=Team%20Meeting&dates=20250815T150000Z/20250815T163000Z\n"
     ]
    }
   ],
   "execution_count": 458
  },
  {
   "metadata": {},
   "cell_type": "code",
   "outputs": [],
   "execution_count": null,
   "source": "",
   "id": "c2adc0ef5f13c2b1"
  }
 ],
 "metadata": {
  "kernelspec": {
   "display_name": "Python 3",
   "language": "python",
   "name": "python3"
  },
  "language_info": {
   "codemirror_mode": {
    "name": "ipython",
    "version": 2
   },
   "file_extension": ".py",
   "mimetype": "text/x-python",
   "name": "python",
   "nbconvert_exporter": "python",
   "pygments_lexer": "ipython2",
   "version": "2.7.6"
  }
 },
 "nbformat": 4,
 "nbformat_minor": 5
}
